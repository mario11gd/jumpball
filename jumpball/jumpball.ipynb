{
 "cells": [
  {
   "cell_type": "markdown",
   "id": "6b89cf35-b050-462c-bdc2-093ab4a1d9b5",
   "metadata": {},
   "source": [
    "# JumpBall in a NBA Game"
   ]
  },
  {
   "cell_type": "markdown",
   "id": "b9c35aed-3580-42c4-8dc8-3d9cfde9fbd2",
   "metadata": {},
   "source": [
    "In this notebook I am going to use Python code to predict which player of a NBA game is more likely to win the jumpball."
   ]
  },
  {
   "cell_type": "markdown",
   "id": "bd50e7b5-8347-45a5-8b05-7f0163982291",
   "metadata": {},
   "source": [
    "https://sportsdatabase.com/NBA/query.html?sdql=&submit=++S+D+Q+L+%21++"
   ]
  },
  {
   "cell_type": "markdown",
   "id": "75c31920-0ca3-4790-afac-f09601a83ce7",
   "metadata": {},
   "source": [
    "The link above is very useful for sport stats. For this case in particular it isn't useful for us because it has no information about jumpballs."
   ]
  },
  {
   "cell_type": "markdown",
   "id": "f3a3d91f-f46e-4fe2-91ad-244ea2118ff2",
   "metadata": {},
   "source": [
    "I am going to try to use an API Client for nba.com. Let's see if it works."
   ]
  },
  {
   "cell_type": "code",
   "execution_count": 1,
   "id": "ed88d01d-9c71-4425-9c82-96048d90dab4",
   "metadata": {},
   "outputs": [
    {
     "name": "stdout",
     "output_type": "stream",
     "text": [
      "Collecting nba_api\n",
      "  Downloading nba_api-1.4.1-py3-none-any.whl (261 kB)\n",
      "     -------------------------------------- 261.7/261.7 kB 7.9 MB/s eta 0:00:00\n",
      "Collecting certifi<2024.0.0,>=2023.7.22\n",
      "  Downloading certifi-2023.11.17-py3-none-any.whl (162 kB)\n",
      "     -------------------------------------- 162.5/162.5 kB 9.5 MB/s eta 0:00:00\n",
      "Collecting requests<3.0,>=2.31\n",
      "  Downloading requests-2.31.0-py3-none-any.whl (62 kB)\n",
      "     -------------------------------------- 62.6/62.6 kB 556.7 kB/s eta 0:00:00\n",
      "Collecting numpy<2.0.0,>=1.22.2\n",
      "  Downloading numpy-1.26.2-cp39-cp39-win_amd64.whl (15.8 MB)\n",
      "     --------------------------------------- 15.8/15.8 MB 22.5 MB/s eta 0:00:00\n",
      "Requirement already satisfied: charset-normalizer<4,>=2 in c:\\users\\mario\\anaconda3\\lib\\site-packages (from requests<3.0,>=2.31->nba_api) (2.0.4)\n",
      "Requirement already satisfied: idna<4,>=2.5 in c:\\users\\mario\\anaconda3\\lib\\site-packages (from requests<3.0,>=2.31->nba_api) (3.3)\n",
      "Requirement already satisfied: urllib3<3,>=1.21.1 in c:\\users\\mario\\anaconda3\\lib\\site-packages (from requests<3.0,>=2.31->nba_api) (1.26.11)\n",
      "Installing collected packages: numpy, certifi, requests, nba_api\n",
      "  Attempting uninstall: numpy\n",
      "    Found existing installation: numpy 1.21.5\n",
      "    Uninstalling numpy-1.21.5:\n",
      "      Successfully uninstalled numpy-1.21.5\n",
      "  Attempting uninstall: certifi\n",
      "    Found existing installation: certifi 2022.9.14\n",
      "    Uninstalling certifi-2022.9.14:\n",
      "      Successfully uninstalled certifi-2022.9.14\n",
      "  Attempting uninstall: requests\n",
      "    Found existing installation: requests 2.28.1\n",
      "    Uninstalling requests-2.28.1:\n",
      "      Successfully uninstalled requests-2.28.1\n",
      "Successfully installed certifi-2023.11.17 nba_api-1.4.1 numpy-1.26.2 requests-2.31.0\n",
      "Note: you may need to restart the kernel to use updated packages.\n"
     ]
    },
    {
     "name": "stderr",
     "output_type": "stream",
     "text": [
      "ERROR: pip's dependency resolver does not currently take into account all the packages that are installed. This behaviour is the source of the following dependency conflicts.\n",
      "daal4py 2021.6.0 requires daal==2021.4.0, which is not installed.\n",
      "scipy 1.9.1 requires numpy<1.25.0,>=1.18.5, but you have numpy 1.26.2 which is incompatible.\n",
      "numba 0.55.1 requires numpy<1.22,>=1.18, but you have numpy 1.26.2 which is incompatible.\n",
      "conda-repo-cli 1.0.20 requires clyent==1.2.1, but you have clyent 1.2.2 which is incompatible.\n",
      "conda-repo-cli 1.0.20 requires nbformat==5.4.0, but you have nbformat 5.5.0 which is incompatible.\n",
      "conda-repo-cli 1.0.20 requires requests==2.28.1, but you have requests 2.31.0 which is incompatible.\n"
     ]
    }
   ],
   "source": [
    "pip install nba_api\n"
   ]
  },
  {
   "cell_type": "markdown",
   "id": "4fe68404-8159-42a9-9095-11d922d09026",
   "metadata": {},
   "source": [
    "Apparently, I have newer versions of a few packages that are incompatible which causes some dependency conflicts. As I don't know how to solve this, I am going to try something else."
   ]
  },
  {
   "cell_type": "code",
   "execution_count": 2,
   "id": "c2e6478f-0802-444b-97b9-54ba7088a540",
   "metadata": {},
   "outputs": [
    {
     "data": {
      "text/plain": [
       "'{\"resource\": \"playercareerstats\", \"parameters\": {\"PerMode\": \"Totals\", \"PlayerID\": 203999, \"LeagueID\": null}, \"resultSets\": [{\"name\": \"SeasonTotalsRegularSeason\", \"headers\": [\"PLAYER_ID\", \"SEASON_ID\", \"LEAGUE_ID\", \"TEAM_ID\", \"TEAM_ABBREVIATION\", \"PLAYER_AGE\", \"GP\", \"GS\", \"MIN\", \"FGM\", \"FGA\", \"FG_PCT\", \"FG3M\", \"FG3A\", \"FG3_PCT\", \"FTM\", \"FTA\", \"FT_PCT\", \"OREB\", \"DREB\", \"REB\", \"AST\", \"STL\", \"BLK\", \"TOV\", \"PF\", \"PTS\"], \"rowSet\": [[203999, \"2015-16\", \"00\", 1610612743, \"DEN\", 21.0, 80, 55, 1733.0, 307, 600, 0.512, 28, 84, 0.333, 154, 190, 0.811, 181, 379, 560, 189, 79, 50, 104, 208, 796], [203999, \"2016-17\", \"00\", 1610612743, \"DEN\", 22.0, 73, 59, 2038.0, 494, 854, 0.578, 45, 139, 0.324, 188, 228, 0.825, 212, 506, 718, 359, 61, 55, 171, 214, 1221], [203999, \"2017-18\", \"00\", 1610612743, \"DEN\", 23.0, 75, 73, 2443.0, 504, 1010, 0.499, 111, 280, 0.396, 266, 313, 0.85, 195, 608, 803, 458, 90, 61, 210, 212, 1385], [203999, \"2018-19\", \"00\", 1610612743, \"DEN\", 24.0, 80, 80, 2504.0, 616, 1206, 0.511, 83, 270, 0.307, 289, 352, 0.821, 228, 637, 865, 580, 108, 55, 248, 228, 1604], [203999, \"2019-20\", \"00\", 1610612743, \"DEN\", 25.0, 73, 73, 2335.0, 565, 1071, 0.528, 80, 255, 0.314, 246, 301, 0.817, 166, 545, 711, 512, 85, 44, 226, 222, 1456], [203999, \"2020-21\", \"00\", 1610612743, \"DEN\", 26.0, 72, 72, 2488.0, 732, 1293, 0.566, 92, 237, 0.388, 342, 394, 0.868, 205, 575, 780, 599, 95, 48, 222, 192, 1898], [203999, \"2021-22\", \"00\", 1610612743, \"DEN\", 27.0, 74, 74, 2476.0, 764, 1311, 0.583, 97, 288, 0.337, 379, 468, 0.81, 206, 813, 1019, 584, 109, 63, 281, 191, 2004], [203999, \"2022-23\", \"00\", 1610612743, \"DEN\", 28.0, 69, 69, 2323.0, 646, 1022, 0.632, 57, 149, 0.383, 341, 415, 0.822, 167, 650, 817, 678, 87, 47, 247, 174, 1690], [203999, \"2023-24\", \"00\", 1610612743, \"DEN\", 28.0, 18, 18, 607.0, 205, 359, 0.571, 24, 76, 0.316, 88, 110, 0.8, 62, 175, 237, 166, 21, 13, 55, 44, 522]]}, {\"name\": \"CareerTotalsRegularSeason\", \"headers\": [\"PLAYER_ID\", \"LEAGUE_ID\", \"Team_ID\", \"GP\", \"GS\", \"MIN\", \"FGM\", \"FGA\", \"FG_PCT\", \"FG3M\", \"FG3A\", \"FG3_PCT\", \"FTM\", \"FTA\", \"FT_PCT\", \"OREB\", \"DREB\", \"REB\", \"AST\", \"STL\", \"BLK\", \"TOV\", \"PF\", \"PTS\"], \"rowSet\": [[203999, \"00\", 0, 614, 573, 18946.0, 4833, 8726, 0.553862, 617, 1778, 0.347019, 2293, 2771, 0.827499, 1622, 4888, 6510, 4125, 735, 436, 1764, 1685, 12576]]}, {\"name\": \"SeasonTotalsPostSeason\", \"headers\": [\"PLAYER_ID\", \"SEASON_ID\", \"LEAGUE_ID\", \"TEAM_ID\", \"TEAM_ABBREVIATION\", \"PLAYER_AGE\", \"GP\", \"GS\", \"MIN\", \"FGM\", \"FGA\", \"FG_PCT\", \"FG3M\", \"FG3A\", \"FG3_PCT\", \"FTM\", \"FTA\", \"FT_PCT\", \"OREB\", \"DREB\", \"REB\", \"AST\", \"STL\", \"BLK\", \"TOV\", \"PF\", \"PTS\"], \"rowSet\": [[203999, \"2018-19\", \"00\", 1610612743, \"DEN\", 24.0, 14, 14, 556.0, 132, 261, 0.506, 22, 56, 0.393, 66, 78, 0.846, 54, 128, 182, 118, 16, 13, 36, 54, 352], [203999, \"2019-20\", \"00\", 1610612743, \"DEN\", 25.0, 19, 19, 694.0, 178, 343, 0.519, 42, 98, 0.429, 66, 79, 0.835, 37, 150, 187, 109, 20, 15, 62, 68, 464], [203999, \"2020-21\", \"00\", 1610612743, \"DEN\", 26.0, 10, 10, 345.0, 116, 228, 0.509, 20, 53, 0.377, 46, 55, 0.836, 37, 79, 116, 50, 6, 9, 24, 23, 298], [203999, \"2021-22\", \"00\", 1610612743, \"DEN\", 27.0, 5, 5, 171.0, 61, 106, 0.575, 5, 18, 0.278, 28, 33, 0.848, 17, 49, 66, 29, 8, 5, 24, 20, 155], [203999, \"2022-23\", \"00\", 1610612743, \"DEN\", 28.0, 20, 20, 789.0, 227, 414, 0.548, 35, 76, 0.461, 111, 139, 0.799, 69, 200, 269, 190, 21, 20, 70, 69, 600]]}, {\"name\": \"CareerTotalsPostSeason\", \"headers\": [\"PLAYER_ID\", \"LEAGUE_ID\", \"Team_ID\", \"GP\", \"GS\", \"MIN\", \"FGM\", \"FGA\", \"FG_PCT\", \"FG3M\", \"FG3A\", \"FG3_PCT\", \"FTM\", \"FTA\", \"FT_PCT\", \"OREB\", \"DREB\", \"REB\", \"AST\", \"STL\", \"BLK\", \"TOV\", \"PF\", \"PTS\"], \"rowSet\": [[203999, \"00\", 0, 68, 68, 2556.0, 714, 1352, 0.528106, 124, 301, 0.41196, 317, 384, 0.82552, 214, 606, 820, 496, 71, 62, 216, 234, 1869]]}, {\"name\": \"SeasonTotalsAllStarSeason\", \"headers\": [\"PLAYER_ID\", \"SEASON_ID\", \"LEAGUE_ID\", \"TEAM_ID\", \"TEAM_ABBREVIATION\", \"PLAYER_AGE\", \"GP\", \"GS\", \"MIN\", \"FGM\", \"FGA\", \"FG_PCT\", \"FG3M\", \"FG3A\", \"FG3_PCT\", \"FTM\", \"FTA\", \"FT_PCT\", \"OREB\", \"DREB\", \"REB\", \"AST\", \"STL\", \"BLK\", \"TOV\", \"PF\", \"PTS\"], \"rowSet\": [[203999, \"2018-19\", \"00\", 1610616833, \"GNS\", 24.0, 1, 0, 13.0, 3, 4, 0.75, 0, 0, 0.0, 0, 0, 0.0, 3, 6, 9, 0, 0, 0, 1, 1, 6], [203999, \"2019-20\", \"00\", 1610616834, \"LBN\", 25.0, 1, 0, 12.0, 2, 4, 0.5, 1, 3, 0.333, 0, 0, 0.0, 0, 2, 2, 1, 1, 0, 0, 1, 5], [203999, \"2020-21\", \"00\", 1610616834, \"LBN\", 26.0, 1, 1, 19.0, 3, 4, 0.75, 0, 0, 0.0, 0, 0, 0.0, 0, 7, 7, 5, 0, 1, 2, 1, 6], [203999, \"2021-22\", \"00\", 1610616834, \"LBN\", 27.0, 1, 1, 21.0, 4, 5, 0.8, 2, 3, 0.667, 0, 0, 0.0, 3, 6, 9, 8, 1, 0, 1, 0, 10], [203999, \"2022-23\", \"00\", 1610616834, \"LBN\", 28.0, 1, 1, 20.0, 2, 4, 0.5, 0, 1, 0.0, 0, 0, 0.0, 3, 2, 5, 6, 2, 0, 2, 0, 4]]}, {\"name\": \"CareerTotalsAllStarSeason\", \"headers\": [\"PLAYER_ID\", \"LEAGUE_ID\", \"Team_ID\", \"GP\", \"GS\", \"MIN\", \"FGM\", \"FGA\", \"FG_PCT\", \"FG3M\", \"FG3A\", \"FG3_PCT\", \"FTM\", \"FTA\", \"FT_PCT\", \"OREB\", \"DREB\", \"REB\", \"AST\", \"STL\", \"BLK\", \"TOV\", \"PF\", \"PTS\"], \"rowSet\": [[203999, \"00\", 0, 5, 3, 86.0, 14, 21, 0.666666, 3, 7, 0.428571, 0, 0, 0.0, 9, 23, 32, 20, 4, 1, 6, 3, 31]]}, {\"name\": \"SeasonTotalsCollegeSeason\", \"headers\": [\"PLAYER_ID\", \"SEASON_ID\", \"LEAGUE_ID\", \"ORGANIZATION_ID\", \"SCHOOL_NAME\", \"PLAYER_AGE\", \"GP\", \"GS\", \"MIN\", \"FGM\", \"FGA\", \"FG_PCT\", \"FG3M\", \"FG3A\", \"FG3_PCT\", \"FTM\", \"FTA\", \"FT_PCT\", \"OREB\", \"DREB\", \"REB\", \"AST\", \"STL\", \"BLK\", \"TOV\", \"PF\", \"PTS\"], \"rowSet\": []}, {\"name\": \"CareerTotalsCollegeSeason\", \"headers\": [\"PLAYER_ID\", \"LEAGUE_ID\", \"ORGANIZATION_ID\", \"GP\", \"GS\", \"MIN\", \"FGM\", \"FGA\", \"FG_PCT\", \"FG3M\", \"FG3A\", \"FG3_PCT\", \"FTM\", \"FTA\", \"FT_PCT\", \"OREB\", \"DREB\", \"REB\", \"AST\", \"STL\", \"BLK\", \"TOV\", \"PF\", \"PTS\"], \"rowSet\": []}, {\"name\": \"SeasonTotalsShowcaseSeason\", \"headers\": [\"PLAYER_ID\", \"SEASON_ID\", \"LEAGUE_ID\", \"TEAM_ID\", \"TEAM_ABBREVIATION\", \"PLAYER_AGE\", \"GP\", \"GS\", \"MIN\", \"FGM\", \"FGA\", \"FG_PCT\", \"FG3M\", \"FG3A\", \"FG3_PCT\", \"FTM\", \"FTA\", \"FT_PCT\", \"OREB\", \"DREB\", \"REB\", \"AST\", \"STL\", \"BLK\", \"TOV\", \"PF\", \"PTS\"], \"rowSet\": []}, {\"name\": \"CareerTotalsShowcaseSeason\", \"headers\": [\"PLAYER_ID\", \"LEAGUE_ID\", \"Team_ID\", \"GP\", \"GS\", \"MIN\", \"FGM\", \"FGA\", \"FG_PCT\", \"FG3M\", \"FG3A\", \"FG3_PCT\", \"FTM\", \"FTA\", \"FT_PCT\", \"OREB\", \"DREB\", \"REB\", \"AST\", \"STL\", \"BLK\", \"TOV\", \"PF\", \"PTS\"], \"rowSet\": []}, {\"name\": \"SeasonRankingsRegularSeason\", \"headers\": [\"PLAYER_ID\", \"SEASON_ID\", \"LEAGUE_ID\", \"TEAM_ID\", \"TEAM_ABBREVIATION\", \"PLAYER_AGE\", \"GP\", \"GS\", \"RANK_MIN\", \"RANK_FGM\", \"RANK_FGA\", \"RANK_FG_PCT\", \"RANK_FG3M\", \"RANK_FG3A\", \"RANK_FG3_PCT\", \"RANK_FTM\", \"RANK_FTA\", \"RANK_FT_PCT\", \"RANK_OREB\", \"RANK_DREB\", \"RANK_REB\", \"RANK_AST\", \"RANK_STL\", \"RANK_BLK\", \"RANK_TOV\", \"RANK_PTS\", \"RANK_EFF\"], \"rowSet\": [[203999, \"2015-16\", \"00\", 1610612743, \"DEN\", \"NR\", \"NR\", \"NR\", 152, 112, 135, 18, 223, 227, null, 90, 104, 58, 24, 45, 38, 82, 61, 68, 115, 120, 50], [203999, \"2016-17\", \"00\", 1610612743, \"DEN\", \"NR\", \"NR\", \"NR\", 108, 34, 68, 6, 192, 188, null, 61, 65, 46, 12, 17, 13, 31, 106, 51, 32, 41, 17], [203999, \"2017-18\", \"00\", 1610612743, \"DEN\", \"NR\", \"NR\", \"NR\", 40, 29, 36, 29, 88, 99, 35, 25, 30, 26, 10, 8, 7, 12, 38, 47, 16, 26, 8], [203999, \"2018-19\", \"00\", 1610612743, \"DEN\", \"NR\", \"NR\", \"NR\", 34, 19, 25, 31, 128, 107, 128, 28, 34, 52, 10, 9, 8, 6, 19, 53, 9, 22, 4], [203999, \"2019-20\", \"00\", 1610612743, \"DEN\", \"NR\", \"NR\", \"NR\", 11, 11, 21, 19, 127, 102, 142, 29, 30, 56, 14, 8, 8, 6, 25, 63, 8, 18, 3], [203999, \"2020-21\", \"00\", 1610612743, \"DEN\", \"NR\", \"NR\", \"NR\", 3, 1, 8, 14, 117, 132, 75, 12, 14, 26, 8, 7, 5, 3, 11, 55, 5, 3, 1], [203999, \"2021-22\", \"00\", 1610612743, \"DEN\", \"NR\", \"NR\", \"NR\", 18, 2, 8, 8, 121, 110, 120, 9, 8, 63, 13, 1, 1, 6, 10, 34, 5, 5, 1], [203999, \"2022-23\", \"00\", 1610612743, \"DEN\", \"NR\", \"NR\", \"NR\", 47, 13, 47, 8, 208, 220, null, 23, 22, 58, 25, 3, 3, 2, 28, 62, 5, 17, 1], [203999, \"2023-24\", \"00\", 1610612743, \"DEN\", \"NR\", \"NR\", \"NR\", 16, 1, 3, 14, 106, 82, 145, 16, 13, 74, 5, 1, 1, 2, 30, 54, 13, 2, 1]]}, {\"name\": \"SeasonRankingsPostSeason\", \"headers\": [\"PLAYER_ID\", \"SEASON_ID\", \"LEAGUE_ID\", \"TEAM_ID\", \"TEAM_ABBREVIATION\", \"PLAYER_AGE\", \"GP\", \"GS\", \"RANK_MIN\", \"RANK_FGM\", \"RANK_FGA\", \"RANK_FG_PCT\", \"RANK_FG3M\", \"RANK_FG3A\", \"RANK_FG3_PCT\", \"RANK_FTM\", \"RANK_FTA\", \"RANK_FT_PCT\", \"RANK_OREB\", \"RANK_DREB\", \"RANK_REB\", \"RANK_AST\", \"RANK_STL\", \"RANK_BLK\", \"RANK_TOV\", \"RANK_PTS\", \"RANK_EFF\"], \"rowSet\": [[203999, \"2018-19\", \"00\", 1610612743, \"DEN\", \"NR\", \"NR\", \"NR\", 13, 7, 9, 14, 20, 28, 29, 8, 10, 27, 1, 6, 4, 4, 18, 14, 12, 10, 4], [203999, \"2019-20\", \"00\", 1610612743, \"DEN\", \"NR\", \"NR\", \"NR\", 6, 4, 4, 12, 10, 16, 19, 10, 10, 31, 4, 2, 4, 4, 11, 8, 2, 5, 3], [203999, \"2020-21\", \"00\", 1610612743, \"DEN\", \"NR\", \"NR\", \"NR\", 37, 13, 13, 18, 36, 38, 44, 14, 15, 30, 8, 16, 12, 20, 58, 25, 19, 14, 13], [203999, \"2021-22\", \"00\", 1610612743, \"DEN\", \"NR\", \"NR\", \"NR\", 85, 32, 44, 7, 97, 90, 79, 32, 34, 21, 26, 38, 35, 44, 51, 53, 27, 38, 37], [203999, \"2022-23\", \"00\", 1610612743, \"DEN\", \"NR\", \"NR\", \"NR\", 5, 1, 2, 11, 14, 25, 12, 3, 2, 32, 1, 1, 1, 1, 8, 6, 1, 1, 1]]}]}'"
      ]
     },
     "execution_count": 2,
     "metadata": {},
     "output_type": "execute_result"
    }
   ],
   "source": [
    "from nba_api.stats.endpoints import playercareerstats\n",
    "\n",
    "# Nikola Jokić\n",
    "career = playercareerstats.PlayerCareerStats(player_id='203999') \n",
    "\n",
    "# pandas data frames (optional: pip install pandas)\n",
    "career.get_data_frames()[0]\n",
    "\n",
    "# json\n",
    "career.get_json()"
   ]
  },
  {
   "cell_type": "markdown",
   "id": "e7f88bec-7348-4966-af60-202821061243",
   "metadata": {},
   "source": [
    "Well, apparently it works. Let's explore it a little bit."
   ]
  },
  {
   "cell_type": "code",
   "execution_count": 3,
   "id": "85e586d0-e6db-4f02-a08d-4f0946cc1ee1",
   "metadata": {},
   "outputs": [
    {
     "data": {
      "text/html": [
       "<div>\n",
       "<style scoped>\n",
       "    .dataframe tbody tr th:only-of-type {\n",
       "        vertical-align: middle;\n",
       "    }\n",
       "\n",
       "    .dataframe tbody tr th {\n",
       "        vertical-align: top;\n",
       "    }\n",
       "\n",
       "    .dataframe thead th {\n",
       "        text-align: right;\n",
       "    }\n",
       "</style>\n",
       "<table border=\"1\" class=\"dataframe\">\n",
       "  <thead>\n",
       "    <tr style=\"text-align: right;\">\n",
       "      <th></th>\n",
       "      <th>gameCode</th>\n",
       "      <th>homeTeam</th>\n",
       "      <th>awayTeam</th>\n",
       "      <th>result</th>\n",
       "      <th>winner</th>\n",
       "    </tr>\n",
       "  </thead>\n",
       "  <tbody>\n",
       "  </tbody>\n",
       "</table>\n",
       "</div>"
      ],
      "text/plain": [
       "Empty DataFrame\n",
       "Columns: [gameCode, homeTeam, awayTeam, result, winner]\n",
       "Index: []"
      ]
     },
     "execution_count": 3,
     "metadata": {},
     "output_type": "execute_result"
    }
   ],
   "source": [
    "from nba_api.live.nba.endpoints import scoreboard\n",
    "import numpy as np\n",
    "import pandas as pd\n",
    "\n",
    "# Today's Score Board\n",
    "games = scoreboard.ScoreBoard()\n",
    "\n",
    "data_org = games.get_dict()[\"scoreboard\"][\"games\"]\n",
    "\n",
    "gameCode = []\n",
    "homeTeam = []\n",
    "awayTeam = []\n",
    "result = []\n",
    "winner = []\n",
    "\n",
    "for game in data_org:\n",
    "    gameCode.append(game[\"gameCode\"])\n",
    "    homeTeam.append(game[\"homeTeam\"][\"teamName\"])\n",
    "    awayTeam.append(game[\"awayTeam\"][\"teamName\"])\n",
    "    result.append(str(game[\"homeTeam\"][\"score\"])+\"-\"+str(game[\"awayTeam\"][\"score\"]))\n",
    "    if game[\"homeTeam\"][\"score\"] > game[\"awayTeam\"][\"score\"]:\n",
    "        winner.append(game[\"homeTeam\"][\"teamName\"])\n",
    "    else:\n",
    "        winner.append(game[\"awayTeam\"][\"teamName\"])\n",
    "    \n",
    "data = {\"gameCode\":gameCode,\"homeTeam\":homeTeam,\"awayTeam\":awayTeam,\"result\":result,\"winner\":winner}\n",
    "\n",
    "pd.DataFrame(data)"
   ]
  },
  {
   "cell_type": "markdown",
   "id": "d3ac9320-ece6-4dae-a250-7e01326e77cf",
   "metadata": {},
   "source": [
    "The previous DataFrame has also very useful information but, 1) it only gives information of matches played \"today\" and 2) it doesn't give information about jumpballs."
   ]
  },
  {
   "cell_type": "markdown",
   "id": "085c6eba-2b25-48d0-817d-e61052d55693",
   "metadata": {},
   "source": [
    "I haven't found a dataset that contains that information yet, but for now, this page is very good and gives good information: https://www.degendata.com/data"
   ]
  },
  {
   "cell_type": "code",
   "execution_count": 4,
   "id": "c28a9a90-538f-467b-85fe-527737207552",
   "metadata": {},
   "outputs": [
    {
     "name": "stdout",
     "output_type": "stream",
     "text": [
      "Requirement already satisfied: nba_py in c:\\users\\mario\\anaconda3\\lib\\site-packages (0.1.1a2)\n",
      "Requirement already satisfied: requests in c:\\users\\mario\\anaconda3\\lib\\site-packages (from nba_py) (2.31.0)\n",
      "Requirement already satisfied: charset-normalizer<4,>=2 in c:\\users\\mario\\anaconda3\\lib\\site-packages (from requests->nba_py) (2.0.4)\n",
      "Requirement already satisfied: idna<4,>=2.5 in c:\\users\\mario\\anaconda3\\lib\\site-packages (from requests->nba_py) (3.3)\n",
      "Requirement already satisfied: urllib3<3,>=1.21.1 in c:\\users\\mario\\anaconda3\\lib\\site-packages (from requests->nba_py) (1.26.11)\n",
      "Requirement already satisfied: certifi>=2017.4.17 in c:\\users\\mario\\anaconda3\\lib\\site-packages (from requests->nba_py) (2023.11.17)\n",
      "Note: you may need to restart the kernel to use updated packages.\n"
     ]
    }
   ],
   "source": [
    "pip install nba_py"
   ]
  },
  {
   "cell_type": "code",
   "execution_count": null,
   "id": "dbeea411-093d-4e28-a3b3-fe445514e9e0",
   "metadata": {},
   "outputs": [],
   "source": [
    "from nba_py import game\n",
    "\n",
    "# game.Boxscore(\"0022300258\")"
   ]
  },
  {
   "cell_type": "markdown",
   "id": "5763f7e3-38dd-4874-be8b-66374c398029",
   "metadata": {},
   "source": [
    "This module looked good but I don't know why it starts loading and doesn't return anything. But this have given me a good idea: to look the playbyplay and get the first play to see who wins it."
   ]
  },
  {
   "cell_type": "code",
   "execution_count": 4,
   "id": "10a524bc-ef7a-450c-a78b-10aedd74789f",
   "metadata": {},
   "outputs": [],
   "source": [
    "gameID = \"0022300260\"\n",
    "initial_df = pd.read_json(\"https://cdn.nba.com/static/json/liveData/playbyplay/playbyplay_\"+gameID+\".json\")"
   ]
  },
  {
   "cell_type": "code",
   "execution_count": 5,
   "id": "508f3ea7-6e8b-436a-bb8c-7e736cd974b3",
   "metadata": {},
   "outputs": [
    {
     "data": {
      "text/html": [
       "<div>\n",
       "<style scoped>\n",
       "    .dataframe tbody tr th:only-of-type {\n",
       "        vertical-align: middle;\n",
       "    }\n",
       "\n",
       "    .dataframe tbody tr th {\n",
       "        vertical-align: top;\n",
       "    }\n",
       "\n",
       "    .dataframe thead th {\n",
       "        text-align: right;\n",
       "    }\n",
       "</style>\n",
       "<table border=\"1\" class=\"dataframe\">\n",
       "  <thead>\n",
       "    <tr style=\"text-align: right;\">\n",
       "      <th></th>\n",
       "      <th>meta</th>\n",
       "      <th>game</th>\n",
       "    </tr>\n",
       "  </thead>\n",
       "  <tbody>\n",
       "    <tr>\n",
       "      <th>version</th>\n",
       "      <td>1</td>\n",
       "      <td>NaN</td>\n",
       "    </tr>\n",
       "    <tr>\n",
       "      <th>code</th>\n",
       "      <td>200</td>\n",
       "      <td>NaN</td>\n",
       "    </tr>\n",
       "    <tr>\n",
       "      <th>request</th>\n",
       "      <td>http://nba.cloud/games/0022300260/playbyplay?F...</td>\n",
       "      <td>NaN</td>\n",
       "    </tr>\n",
       "    <tr>\n",
       "      <th>time</th>\n",
       "      <td>2023-11-29 23:55:52.646780</td>\n",
       "      <td>NaN</td>\n",
       "    </tr>\n",
       "    <tr>\n",
       "      <th>gameId</th>\n",
       "      <td>NaN</td>\n",
       "      <td>0022300260</td>\n",
       "    </tr>\n",
       "    <tr>\n",
       "      <th>actions</th>\n",
       "      <td>NaN</td>\n",
       "      <td>[{'actionNumber': 2, 'clock': 'PT12M00.00S', '...</td>\n",
       "    </tr>\n",
       "  </tbody>\n",
       "</table>\n",
       "</div>"
      ],
      "text/plain": [
       "                                                      meta  \\\n",
       "version                                                  1   \n",
       "code                                                   200   \n",
       "request  http://nba.cloud/games/0022300260/playbyplay?F...   \n",
       "time                            2023-11-29 23:55:52.646780   \n",
       "gameId                                                 NaN   \n",
       "actions                                                NaN   \n",
       "\n",
       "                                                      game  \n",
       "version                                                NaN  \n",
       "code                                                   NaN  \n",
       "request                                                NaN  \n",
       "time                                                   NaN  \n",
       "gameId                                          0022300260  \n",
       "actions  [{'actionNumber': 2, 'clock': 'PT12M00.00S', '...  "
      ]
     },
     "execution_count": 5,
     "metadata": {},
     "output_type": "execute_result"
    }
   ],
   "source": [
    "initial_df"
   ]
  },
  {
   "cell_type": "code",
   "execution_count": 6,
   "id": "556e4df1-91c6-4e7d-8e3b-60120c8e8c6a",
   "metadata": {},
   "outputs": [],
   "source": [
    "playbyplay = initial_df.loc[\"actions\"][\"game\"]"
   ]
  },
  {
   "cell_type": "code",
   "execution_count": 7,
   "id": "2e07d76f-58c1-4b57-a5f9-baee7d6bbdde",
   "metadata": {},
   "outputs": [],
   "source": [
    "for i in range(len(playbyplay)):\n",
    "    if playbyplay[i][\"actionType\"] == \"jumpball\" and playbyplay[i][\"descriptor\"] == \"startperiod\":\n",
    "        jb_data = [playbyplay[i]]"
   ]
  },
  {
   "cell_type": "code",
   "execution_count": 8,
   "id": "6aacd5e3-0da4-4663-9ba4-09c58f56eaee",
   "metadata": {},
   "outputs": [
    {
     "data": {
      "text/plain": [
       "[{'actionNumber': 4,\n",
       "  'clock': 'PT11M55.00S',\n",
       "  'timeActual': '2023-11-30T00:40:47.6Z',\n",
       "  'period': 1,\n",
       "  'periodType': 'REGULAR',\n",
       "  'teamId': 1610612756,\n",
       "  'teamTricode': 'PHX',\n",
       "  'actionType': 'jumpball',\n",
       "  'subType': 'recovered',\n",
       "  'descriptor': 'startperiod',\n",
       "  'qualifiers': [],\n",
       "  'personId': 1626164,\n",
       "  'x': None,\n",
       "  'y': None,\n",
       "  'possession': 1610612756,\n",
       "  'scoreHome': '0',\n",
       "  'scoreAway': '0',\n",
       "  'edited': '2023-11-30T00:40:47Z',\n",
       "  'orderNumber': 40000,\n",
       "  'isTargetScoreLastPeriod': False,\n",
       "  'xLegacy': None,\n",
       "  'yLegacy': None,\n",
       "  'isFieldGoal': 0,\n",
       "  'jumpBallRecoveredName': 'D. Booker',\n",
       "  'jumpBallRecoverdPersonId': 1626164,\n",
       "  'side': None,\n",
       "  'playerName': 'Booker',\n",
       "  'playerNameI': 'D. Booker',\n",
       "  'personIdsFilter': [1626164, 203994, 1627751],\n",
       "  'jumpBallWonPlayerName': 'Nurkic',\n",
       "  'jumpBallWonPersonId': 203994,\n",
       "  'description': 'Jump Ball J. Nurkic vs. J. Poeltl: Tip to D. Booker',\n",
       "  'jumpBallLostPlayerName': 'Poeltl',\n",
       "  'jumpBallLostPersonId': 1627751}]"
      ]
     },
     "execution_count": 8,
     "metadata": {},
     "output_type": "execute_result"
    }
   ],
   "source": [
    "jb_data"
   ]
  },
  {
   "cell_type": "code",
   "execution_count": 9,
   "id": "ffecf0aa-5b7e-4859-87c5-2942783b00cc",
   "metadata": {},
   "outputs": [],
   "source": [
    "jumpBallWonPlayerName = []\n",
    "jumpBallWonPersonId = []\n",
    "jumpBallLostPlayerName = []\n",
    "jumpBallLostPersonId = []\n",
    "index = []"
   ]
  },
  {
   "cell_type": "code",
   "execution_count": 10,
   "id": "6fbeb129-91ce-49a2-8c20-e4adfc3c44d9",
   "metadata": {},
   "outputs": [],
   "source": [
    "jumpBallWonPlayerName.append(jb_data[0][\"jumpBallWonPlayerName\"])\n",
    "jumpBallWonPersonId.append(jb_data[0][\"jumpBallWonPersonId\"])\n",
    "jumpBallLostPlayerName.append(jb_data[0][\"jumpBallLostPlayerName\"])\n",
    "jumpBallLostPersonId.append(jb_data[0][\"jumpBallLostPersonId\"])\n",
    "index.append(gameID)"
   ]
  },
  {
   "cell_type": "code",
   "execution_count": 11,
   "id": "089d943d-a160-49e7-a391-ec187044d351",
   "metadata": {},
   "outputs": [],
   "source": [
    "jb_dict = {\"jumpBallWonPlayerName\":jumpBallWonPlayerName,\"jumpBallWonPersonId\":jumpBallWonPersonId,\"jumpBallLostPlayerName\":jumpBallLostPlayerName,\"jumpBallLostPersonId\":jumpBallLostPersonId}"
   ]
  },
  {
   "cell_type": "code",
   "execution_count": 12,
   "id": "c047d5ab-d0dd-4923-b619-64ca134df31f",
   "metadata": {},
   "outputs": [],
   "source": [
    "jb = pd.DataFrame(jb_dict,index=index)"
   ]
  },
  {
   "cell_type": "code",
   "execution_count": 13,
   "id": "616ee92c-e47c-4147-935a-ba92b7b891b7",
   "metadata": {},
   "outputs": [
    {
     "data": {
      "text/html": [
       "<div>\n",
       "<style scoped>\n",
       "    .dataframe tbody tr th:only-of-type {\n",
       "        vertical-align: middle;\n",
       "    }\n",
       "\n",
       "    .dataframe tbody tr th {\n",
       "        vertical-align: top;\n",
       "    }\n",
       "\n",
       "    .dataframe thead th {\n",
       "        text-align: right;\n",
       "    }\n",
       "</style>\n",
       "<table border=\"1\" class=\"dataframe\">\n",
       "  <thead>\n",
       "    <tr style=\"text-align: right;\">\n",
       "      <th></th>\n",
       "      <th>jumpBallWonPlayerName</th>\n",
       "      <th>jumpBallWonPersonId</th>\n",
       "      <th>jumpBallLostPlayerName</th>\n",
       "      <th>jumpBallLostPersonId</th>\n",
       "    </tr>\n",
       "  </thead>\n",
       "  <tbody>\n",
       "    <tr>\n",
       "      <th>0022300260</th>\n",
       "      <td>Nurkic</td>\n",
       "      <td>203994</td>\n",
       "      <td>Poeltl</td>\n",
       "      <td>1627751</td>\n",
       "    </tr>\n",
       "  </tbody>\n",
       "</table>\n",
       "</div>"
      ],
      "text/plain": [
       "           jumpBallWonPlayerName  jumpBallWonPersonId jumpBallLostPlayerName  \\\n",
       "0022300260                Nurkic               203994                 Poeltl   \n",
       "\n",
       "            jumpBallLostPersonId  \n",
       "0022300260               1627751  "
      ]
     },
     "execution_count": 13,
     "metadata": {},
     "output_type": "execute_result"
    }
   ],
   "source": [
    "jb"
   ]
  },
  {
   "cell_type": "markdown",
   "id": "6470b758-b027-44a8-9a0d-5e7eaa19b88b",
   "metadata": {},
   "source": [
    "This is fine for just one game, but we need all the data from this season, so we will need to know all the gameID's of this season."
   ]
  },
  {
   "cell_type": "code",
   "execution_count": 14,
   "id": "5cba4d13-e266-46ca-aa17-9fc78ee4d9fe",
   "metadata": {},
   "outputs": [
    {
     "name": "stderr",
     "output_type": "stream",
     "text": [
      "C:\\Users\\Mario\\AppData\\Local\\Temp\\ipykernel_9132\\1431115019.py:6: UserWarning: Boolean Series key will be reindexed to match DataFrame index.\n",
      "  games_2324 = games_2324[games.GAME_ID.str[:2] == '00']\n"
     ]
    },
    {
     "data": {
      "text/html": [
       "<div>\n",
       "<style scoped>\n",
       "    .dataframe tbody tr th:only-of-type {\n",
       "        vertical-align: middle;\n",
       "    }\n",
       "\n",
       "    .dataframe tbody tr th {\n",
       "        vertical-align: top;\n",
       "    }\n",
       "\n",
       "    .dataframe thead th {\n",
       "        text-align: right;\n",
       "    }\n",
       "</style>\n",
       "<table border=\"1\" class=\"dataframe\">\n",
       "  <thead>\n",
       "    <tr style=\"text-align: right;\">\n",
       "      <th></th>\n",
       "      <th>SEASON_ID</th>\n",
       "      <th>TEAM_ID</th>\n",
       "      <th>TEAM_ABBREVIATION</th>\n",
       "      <th>TEAM_NAME</th>\n",
       "      <th>GAME_ID</th>\n",
       "      <th>GAME_DATE</th>\n",
       "      <th>MATCHUP</th>\n",
       "      <th>WL</th>\n",
       "      <th>MIN</th>\n",
       "      <th>PTS</th>\n",
       "      <th>...</th>\n",
       "      <th>FT_PCT</th>\n",
       "      <th>OREB</th>\n",
       "      <th>DREB</th>\n",
       "      <th>REB</th>\n",
       "      <th>AST</th>\n",
       "      <th>STL</th>\n",
       "      <th>BLK</th>\n",
       "      <th>TOV</th>\n",
       "      <th>PF</th>\n",
       "      <th>PLUS_MINUS</th>\n",
       "    </tr>\n",
       "  </thead>\n",
       "  <tbody>\n",
       "    <tr>\n",
       "      <th>14</th>\n",
       "      <td>62023</td>\n",
       "      <td>1610612747</td>\n",
       "      <td>LAL</td>\n",
       "      <td>Los Angeles Lakers</td>\n",
       "      <td>0062300001</td>\n",
       "      <td>2023-12-09</td>\n",
       "      <td>LAL vs. IND</td>\n",
       "      <td>W</td>\n",
       "      <td>242</td>\n",
       "      <td>123</td>\n",
       "      <td>...</td>\n",
       "      <td>0.771</td>\n",
       "      <td>12</td>\n",
       "      <td>43</td>\n",
       "      <td>55</td>\n",
       "      <td>25</td>\n",
       "      <td>5</td>\n",
       "      <td>10</td>\n",
       "      <td>18</td>\n",
       "      <td>25</td>\n",
       "      <td>14.0</td>\n",
       "    </tr>\n",
       "    <tr>\n",
       "      <th>16</th>\n",
       "      <td>62023</td>\n",
       "      <td>1610612754</td>\n",
       "      <td>IND</td>\n",
       "      <td>Indiana Pacers</td>\n",
       "      <td>0062300001</td>\n",
       "      <td>2023-12-09</td>\n",
       "      <td>IND @ LAL</td>\n",
       "      <td>L</td>\n",
       "      <td>238</td>\n",
       "      <td>109</td>\n",
       "      <td>...</td>\n",
       "      <td>0.879</td>\n",
       "      <td>9</td>\n",
       "      <td>23</td>\n",
       "      <td>32</td>\n",
       "      <td>27</td>\n",
       "      <td>10</td>\n",
       "      <td>7</td>\n",
       "      <td>9</td>\n",
       "      <td>33</td>\n",
       "      <td>-14.0</td>\n",
       "    </tr>\n",
       "    <tr>\n",
       "      <th>18</th>\n",
       "      <td>22023</td>\n",
       "      <td>1610612752</td>\n",
       "      <td>NYK</td>\n",
       "      <td>New York Knicks</td>\n",
       "      <td>0022301227</td>\n",
       "      <td>2023-12-08</td>\n",
       "      <td>NYK @ BOS</td>\n",
       "      <td>L</td>\n",
       "      <td>240</td>\n",
       "      <td>123</td>\n",
       "      <td>...</td>\n",
       "      <td>0.741</td>\n",
       "      <td>12</td>\n",
       "      <td>32</td>\n",
       "      <td>44</td>\n",
       "      <td>28</td>\n",
       "      <td>4</td>\n",
       "      <td>3</td>\n",
       "      <td>13</td>\n",
       "      <td>20</td>\n",
       "      <td>-10.0</td>\n",
       "    </tr>\n",
       "    <tr>\n",
       "      <th>20</th>\n",
       "      <td>22023</td>\n",
       "      <td>1610612760</td>\n",
       "      <td>OKC</td>\n",
       "      <td>Oklahoma City Thunder</td>\n",
       "      <td>0022301222</td>\n",
       "      <td>2023-12-08</td>\n",
       "      <td>OKC vs. GSW</td>\n",
       "      <td>W</td>\n",
       "      <td>265</td>\n",
       "      <td>138</td>\n",
       "      <td>...</td>\n",
       "      <td>0.861</td>\n",
       "      <td>11</td>\n",
       "      <td>28</td>\n",
       "      <td>39</td>\n",
       "      <td>15</td>\n",
       "      <td>17</td>\n",
       "      <td>7</td>\n",
       "      <td>9</td>\n",
       "      <td>22</td>\n",
       "      <td>2.0</td>\n",
       "    </tr>\n",
       "    <tr>\n",
       "      <th>21</th>\n",
       "      <td>22023</td>\n",
       "      <td>1610612748</td>\n",
       "      <td>MIA</td>\n",
       "      <td>Miami Heat</td>\n",
       "      <td>0022301220</td>\n",
       "      <td>2023-12-08</td>\n",
       "      <td>MIA vs. CLE</td>\n",
       "      <td>L</td>\n",
       "      <td>239</td>\n",
       "      <td>99</td>\n",
       "      <td>...</td>\n",
       "      <td>0.667</td>\n",
       "      <td>7</td>\n",
       "      <td>30</td>\n",
       "      <td>37</td>\n",
       "      <td>23</td>\n",
       "      <td>5</td>\n",
       "      <td>5</td>\n",
       "      <td>18</td>\n",
       "      <td>23</td>\n",
       "      <td>-12.0</td>\n",
       "    </tr>\n",
       "  </tbody>\n",
       "</table>\n",
       "<p>5 rows × 28 columns</p>\n",
       "</div>"
      ],
      "text/plain": [
       "   SEASON_ID     TEAM_ID TEAM_ABBREVIATION              TEAM_NAME     GAME_ID  \\\n",
       "14     62023  1610612747               LAL     Los Angeles Lakers  0062300001   \n",
       "16     62023  1610612754               IND         Indiana Pacers  0062300001   \n",
       "18     22023  1610612752               NYK        New York Knicks  0022301227   \n",
       "20     22023  1610612760               OKC  Oklahoma City Thunder  0022301222   \n",
       "21     22023  1610612748               MIA             Miami Heat  0022301220   \n",
       "\n",
       "     GAME_DATE      MATCHUP WL  MIN  PTS  ...  FT_PCT  OREB  DREB  REB  AST  \\\n",
       "14  2023-12-09  LAL vs. IND  W  242  123  ...   0.771    12    43   55   25   \n",
       "16  2023-12-09    IND @ LAL  L  238  109  ...   0.879     9    23   32   27   \n",
       "18  2023-12-08    NYK @ BOS  L  240  123  ...   0.741    12    32   44   28   \n",
       "20  2023-12-08  OKC vs. GSW  W  265  138  ...   0.861    11    28   39   15   \n",
       "21  2023-12-08  MIA vs. CLE  L  239   99  ...   0.667     7    30   37   23   \n",
       "\n",
       "    STL  BLK  TOV  PF  PLUS_MINUS  \n",
       "14    5   10   18  25        14.0  \n",
       "16   10    7    9  33       -14.0  \n",
       "18    4    3   13  20       -10.0  \n",
       "20   17    7    9  22         2.0  \n",
       "21    5    5   18  23       -12.0  \n",
       "\n",
       "[5 rows x 28 columns]"
      ]
     },
     "execution_count": 14,
     "metadata": {},
     "output_type": "execute_result"
    }
   ],
   "source": [
    "from nba_api.stats.endpoints import leaguegamefinder\n",
    "\n",
    "gamefinder = leaguegamefinder.LeagueGameFinder()\n",
    "games = gamefinder.get_data_frames()[0]\n",
    "games_2324 = games[games.SEASON_ID.str[-4:] == '2023']\n",
    "games_2324 = games_2324[games.GAME_ID.str[:2] == '00']\n",
    "games_2324.head()"
   ]
  },
  {
   "cell_type": "code",
   "execution_count": 15,
   "id": "1fa1980b-d200-4bf2-ba45-42f3cdeb73c6",
   "metadata": {},
   "outputs": [],
   "source": [
    "game_ids = sorted(list(set(games_2324[\"GAME_ID\"])))"
   ]
  },
  {
   "cell_type": "code",
   "execution_count": 16,
   "id": "b97e0b2b-a8e8-4d7f-8976-3c0671048089",
   "metadata": {},
   "outputs": [
    {
     "data": {
      "text/plain": [
       "395"
      ]
     },
     "execution_count": 16,
     "metadata": {},
     "output_type": "execute_result"
    }
   ],
   "source": [
    "len(game_ids)"
   ]
  },
  {
   "cell_type": "markdown",
   "id": "091bffbc-b7ba-446e-ad0a-3e8f7bdb9749",
   "metadata": {},
   "source": [
    "Now, we have all the game_ids of this season. So we have to repeat the same process we did before to get a dataframe with all the data of every opening jumpball of the season."
   ]
  },
  {
   "cell_type": "code",
   "execution_count": 17,
   "id": "e0ef52a3-0dbb-4d4f-a47a-8d9bf98292f0",
   "metadata": {},
   "outputs": [],
   "source": [
    "jb = pd.read_json(\"jb.json\")"
   ]
  },
  {
   "cell_type": "code",
   "execution_count": 19,
   "id": "5c71b47f-bd30-4a98-908c-db2d2a9dffec",
   "metadata": {},
   "outputs": [],
   "source": [
    "from tqdm import tqdm"
   ]
  },
  {
   "cell_type": "code",
   "execution_count": 22,
   "id": "a9d152cf-9991-476d-b47d-e3d3cc0e007b",
   "metadata": {},
   "outputs": [],
   "source": [
    "import warnings\n",
    "warnings.simplefilter(action='ignore', category=FutureWarning)"
   ]
  },
  {
   "cell_type": "code",
   "execution_count": null,
   "id": "3f4508d4-7823-4948-b5c3-ff3071345244",
   "metadata": {},
   "outputs": [
    {
     "name": "stderr",
     "output_type": "stream",
     "text": [
      " 71%|███████   | 280/395 [02:43<01:11,  1.60it/s]"
     ]
    }
   ],
   "source": [
    "for game_id in tqdm(game_ids):\n",
    "    if game_id not in jb.index:\n",
    "        gameID = game_id\n",
    "        initial_df = pd.read_json(\"https://cdn.nba.com/static/json/liveData/playbyplay/playbyplay_\"+gameID+\".json\")\n",
    "        playbyplay = initial_df.loc[\"actions\"][\"game\"]\n",
    "        for i in range(len(playbyplay)):\n",
    "            if playbyplay[i][\"actionType\"] == \"jumpball\" and playbyplay[i][\"descriptor\"] == \"startperiod\":\n",
    "                jb_data = [playbyplay[i]]\n",
    "        jb = jb.append(pd.DataFrame({\"jumpBallWonPlayerName\":jb_data[0][\"jumpBallWonPlayerName\"],\"jumpBallWonPersonId\":jb_data[0][\"jumpBallWonPersonId\"],\"jumpBallLostPlayerName\":jb_data[0][\"jumpBallLostPlayerName\"],\"jumpBallLostPersonId\":jb_data[0][\"jumpBallLostPersonId\"]},index=[gameID]))\n",
    "    "
   ]
  },
  {
   "cell_type": "code",
   "execution_count": null,
   "id": "5ac424e5-e506-4a80-9cd7-029777a6d91e",
   "metadata": {},
   "outputs": [],
   "source": [
    "jb.to_json(\"jb.json\")"
   ]
  },
  {
   "cell_type": "code",
   "execution_count": 18,
   "id": "3bdc4c9c-1b81-4258-8004-6e5d31b5243e",
   "metadata": {},
   "outputs": [
    {
     "data": {
      "text/html": [
       "<div>\n",
       "<style scoped>\n",
       "    .dataframe tbody tr th:only-of-type {\n",
       "        vertical-align: middle;\n",
       "    }\n",
       "\n",
       "    .dataframe tbody tr th {\n",
       "        vertical-align: top;\n",
       "    }\n",
       "\n",
       "    .dataframe thead th {\n",
       "        text-align: right;\n",
       "    }\n",
       "</style>\n",
       "<table border=\"1\" class=\"dataframe\">\n",
       "  <thead>\n",
       "    <tr style=\"text-align: right;\">\n",
       "      <th></th>\n",
       "      <th>jumpBallWonPlayerName</th>\n",
       "      <th>jumpBallWonPersonId</th>\n",
       "      <th>jumpBallLostPlayerName</th>\n",
       "      <th>jumpBallLostPersonId</th>\n",
       "    </tr>\n",
       "  </thead>\n",
       "  <tbody>\n",
       "    <tr>\n",
       "      <th>12300001</th>\n",
       "      <td>Gobert</td>\n",
       "      <td>203497</td>\n",
       "      <td>Lively II</td>\n",
       "      <td>1641726</td>\n",
       "    </tr>\n",
       "    <tr>\n",
       "      <th>12300002</th>\n",
       "      <td>Lively II</td>\n",
       "      <td>1641726</td>\n",
       "      <td>Gobert</td>\n",
       "      <td>203497</td>\n",
       "    </tr>\n",
       "    <tr>\n",
       "      <th>12300003</th>\n",
       "      <td>Davis</td>\n",
       "      <td>203076</td>\n",
       "      <td>Looney</td>\n",
       "      <td>1626172</td>\n",
       "    </tr>\n",
       "    <tr>\n",
       "      <th>12300004</th>\n",
       "      <td>Vucevic</td>\n",
       "      <td>202696</td>\n",
       "      <td>Lopez</td>\n",
       "      <td>201572</td>\n",
       "    </tr>\n",
       "    <tr>\n",
       "      <th>12300005</th>\n",
       "      <td>Metu</td>\n",
       "      <td>1629002</td>\n",
       "      <td>Bagley III</td>\n",
       "      <td>1628963</td>\n",
       "    </tr>\n",
       "    <tr>\n",
       "      <th>...</th>\n",
       "      <td>...</td>\n",
       "      <td>...</td>\n",
       "      <td>...</td>\n",
       "      <td>...</td>\n",
       "    </tr>\n",
       "    <tr>\n",
       "      <th>22300260</th>\n",
       "      <td>Nurkic</td>\n",
       "      <td>203994</td>\n",
       "      <td>Poeltl</td>\n",
       "      <td>1627751</td>\n",
       "    </tr>\n",
       "    <tr>\n",
       "      <th>22300261</th>\n",
       "      <td>Jackson Jr.</td>\n",
       "      <td>1628991</td>\n",
       "      <td>Yurtseven</td>\n",
       "      <td>1630209</td>\n",
       "    </tr>\n",
       "    <tr>\n",
       "      <th>22300262</th>\n",
       "      <td>Valanciunas</td>\n",
       "      <td>202685</td>\n",
       "      <td>Morris Sr.</td>\n",
       "      <td>202694</td>\n",
       "    </tr>\n",
       "    <tr>\n",
       "      <th>22300263</th>\n",
       "      <td>Sengun</td>\n",
       "      <td>1630578</td>\n",
       "      <td>Jokic</td>\n",
       "      <td>203999</td>\n",
       "    </tr>\n",
       "    <tr>\n",
       "      <th>22300264</th>\n",
       "      <td>Sabonis</td>\n",
       "      <td>1627734</td>\n",
       "      <td>Zubac</td>\n",
       "      <td>1627826</td>\n",
       "    </tr>\n",
       "  </tbody>\n",
       "</table>\n",
       "<p>337 rows × 4 columns</p>\n",
       "</div>"
      ],
      "text/plain": [
       "         jumpBallWonPlayerName  jumpBallWonPersonId jumpBallLostPlayerName  \\\n",
       "12300001                Gobert               203497              Lively II   \n",
       "12300002             Lively II              1641726                 Gobert   \n",
       "12300003                 Davis               203076                 Looney   \n",
       "12300004               Vucevic               202696                  Lopez   \n",
       "12300005                  Metu              1629002             Bagley III   \n",
       "...                        ...                  ...                    ...   \n",
       "22300260                Nurkic               203994                 Poeltl   \n",
       "22300261           Jackson Jr.              1628991              Yurtseven   \n",
       "22300262           Valanciunas               202685             Morris Sr.   \n",
       "22300263                Sengun              1630578                  Jokic   \n",
       "22300264               Sabonis              1627734                  Zubac   \n",
       "\n",
       "          jumpBallLostPersonId  \n",
       "12300001               1641726  \n",
       "12300002                203497  \n",
       "12300003               1626172  \n",
       "12300004                201572  \n",
       "12300005               1628963  \n",
       "...                        ...  \n",
       "22300260               1627751  \n",
       "22300261               1630209  \n",
       "22300262                202694  \n",
       "22300263                203999  \n",
       "22300264               1627826  \n",
       "\n",
       "[337 rows x 4 columns]"
      ]
     },
     "execution_count": 18,
     "metadata": {},
     "output_type": "execute_result"
    }
   ],
   "source": [
    "jb"
   ]
  },
  {
   "cell_type": "markdown",
   "id": "5c84753e-fe4e-4003-955e-6be0dacfc431",
   "metadata": {},
   "source": [
    "Now, we have the complete dataset for the opening jumpballs of this season, so we have to start getting some data from it."
   ]
  },
  {
   "cell_type": "code",
   "execution_count": 209,
   "id": "30c0cf3a-2f25-4d58-82fc-47a3128f709d",
   "metadata": {},
   "outputs": [],
   "source": [
    "jb_personid = list(set(jb[\"jumpBallWonPersonId\"]))\n",
    "fill = list(set(jb[\"jumpBallLostPersonId\"]))\n",
    "for n in fill:\n",
    "    if n not in jb_personid:\n",
    "        jb_personid.append(n)"
   ]
  },
  {
   "cell_type": "code",
   "execution_count": 219,
   "id": "f064efec-f1c6-4fe8-8e81-313e6ce7813e",
   "metadata": {},
   "outputs": [],
   "source": [
    "jb_analytics = pd.DataFrame(index=[jb_personid],columns=[\"Name\",\"Won\",\"Total\",\"Avg\"])\n"
   ]
  },
  {
   "cell_type": "code",
   "execution_count": 220,
   "id": "21d6a9ff-c965-4958-bd69-6d428042900c",
   "metadata": {},
   "outputs": [],
   "source": [
    "jb_analytics = jb_analytics.fillna(0)"
   ]
  },
  {
   "cell_type": "code",
   "execution_count": 221,
   "id": "db9cf9d4-e47b-4442-b1fa-18fd3eaa5b85",
   "metadata": {},
   "outputs": [],
   "source": [
    "for gameID in game_ids:\n",
    "    winner_id = jb.loc[gameID][\"jumpBallWonPersonId\"]\n",
    "    loser_id = jb.loc[gameID][\"jumpBallLostPersonId\"]\n",
    "    jb_analytics.loc[winner_id,\"Name\"] = jb.loc[gameID,\"jumpBallWonPlayerName\"]\n",
    "    jb_analytics.loc[loser_id,\"Name\"] = jb.loc[gameID,\"jumpBallLostPlayerName\"]\n",
    "    jb_analytics.loc[winner_id,\"Won\"] += 1\n",
    "    jb_analytics.loc[winner_id,\"Total\"] += 1\n",
    "    jb_analytics.loc[winner_id,\"Avg\"] = jb_analytics.loc[winner_id,\"Won\"]/jb_analytics.loc[winner_id,\"Total\"]\n",
    "    jb_analytics.loc[loser_id,\"Total\"] += 1\n",
    "    jb_analytics.loc[loser_id,\"Avg\"] = jb_analytics.loc[loser_id,\"Won\"]/jb_analytics.loc[loser_id,\"Total\"]\n",
    "    "
   ]
  },
  {
   "cell_type": "code",
   "execution_count": 222,
   "id": "19ddbf03-6c49-487a-a441-b6ed28872a92",
   "metadata": {},
   "outputs": [
    {
     "data": {
      "text/plain": [
       "6"
      ]
     },
     "execution_count": 222,
     "metadata": {},
     "output_type": "execute_result"
    }
   ],
   "source": [
    "jb_analytics.loc[winner_id,\"Won\"].values[0]"
   ]
  },
  {
   "cell_type": "code",
   "execution_count": 223,
   "id": "c12e9987-1c3a-442b-a1ba-6a3114ac0fa3",
   "metadata": {},
   "outputs": [
    {
     "data": {
      "text/html": [
       "<div>\n",
       "<style scoped>\n",
       "    .dataframe tbody tr th:only-of-type {\n",
       "        vertical-align: middle;\n",
       "    }\n",
       "\n",
       "    .dataframe tbody tr th {\n",
       "        vertical-align: top;\n",
       "    }\n",
       "\n",
       "    .dataframe thead th {\n",
       "        text-align: right;\n",
       "    }\n",
       "</style>\n",
       "<table border=\"1\" class=\"dataframe\">\n",
       "  <thead>\n",
       "    <tr style=\"text-align: right;\">\n",
       "      <th></th>\n",
       "      <th>Name</th>\n",
       "      <th>Won</th>\n",
       "      <th>Total</th>\n",
       "      <th>Avg</th>\n",
       "    </tr>\n",
       "  </thead>\n",
       "  <tbody>\n",
       "    <tr>\n",
       "      <th>1631105</th>\n",
       "      <td>Duren</td>\n",
       "      <td>10</td>\n",
       "      <td>12</td>\n",
       "      <td>0.833333</td>\n",
       "    </tr>\n",
       "    <tr>\n",
       "      <th>1628418</th>\n",
       "      <td>Bryant</td>\n",
       "      <td>1</td>\n",
       "      <td>4</td>\n",
       "      <td>0.250000</td>\n",
       "    </tr>\n",
       "    <tr>\n",
       "      <th>1630209</th>\n",
       "      <td>Yurtseven</td>\n",
       "      <td>1</td>\n",
       "      <td>3</td>\n",
       "      <td>0.333333</td>\n",
       "    </tr>\n",
       "    <tr>\n",
       "      <th>1630596</th>\n",
       "      <td>Mobley</td>\n",
       "      <td>3</td>\n",
       "      <td>7</td>\n",
       "      <td>0.428571</td>\n",
       "    </tr>\n",
       "    <tr>\n",
       "      <th>1631109</th>\n",
       "      <td>Williams</td>\n",
       "      <td>12</td>\n",
       "      <td>20</td>\n",
       "      <td>0.600000</td>\n",
       "    </tr>\n",
       "    <tr>\n",
       "      <th>...</th>\n",
       "      <td>...</td>\n",
       "      <td>...</td>\n",
       "      <td>...</td>\n",
       "      <td>...</td>\n",
       "    </tr>\n",
       "    <tr>\n",
       "      <th>203488</th>\n",
       "      <td>Muscala</td>\n",
       "      <td>0</td>\n",
       "      <td>1</td>\n",
       "      <td>0.000000</td>\n",
       "    </tr>\n",
       "    <tr>\n",
       "      <th>1630567</th>\n",
       "      <td>Barnes</td>\n",
       "      <td>0</td>\n",
       "      <td>1</td>\n",
       "      <td>0.000000</td>\n",
       "    </tr>\n",
       "    <tr>\n",
       "      <th>201577</th>\n",
       "      <td>Lopez</td>\n",
       "      <td>0</td>\n",
       "      <td>1</td>\n",
       "      <td>0.000000</td>\n",
       "    </tr>\n",
       "    <tr>\n",
       "      <th>1630191</th>\n",
       "      <td>Stewart</td>\n",
       "      <td>0</td>\n",
       "      <td>2</td>\n",
       "      <td>0.000000</td>\n",
       "    </tr>\n",
       "    <tr>\n",
       "      <th>1631095</th>\n",
       "      <td>Smith Jr.</td>\n",
       "      <td>0</td>\n",
       "      <td>2</td>\n",
       "      <td>0.000000</td>\n",
       "    </tr>\n",
       "  </tbody>\n",
       "</table>\n",
       "<p>86 rows × 4 columns</p>\n",
       "</div>"
      ],
      "text/plain": [
       "              Name  Won  Total       Avg\n",
       "1631105      Duren   10     12  0.833333\n",
       "1628418     Bryant    1      4  0.250000\n",
       "1630209  Yurtseven    1      3  0.333333\n",
       "1630596     Mobley    3      7  0.428571\n",
       "1631109   Williams   12     20  0.600000\n",
       "...            ...  ...    ...       ...\n",
       "203488     Muscala    0      1  0.000000\n",
       "1630567     Barnes    0      1  0.000000\n",
       "201577       Lopez    0      1  0.000000\n",
       "1630191    Stewart    0      2  0.000000\n",
       "1631095  Smith Jr.    0      2  0.000000\n",
       "\n",
       "[86 rows x 4 columns]"
      ]
     },
     "execution_count": 223,
     "metadata": {},
     "output_type": "execute_result"
    }
   ],
   "source": [
    "jb_analytics"
   ]
  },
  {
   "cell_type": "markdown",
   "id": "a8d2e4ca-dd3c-4c90-b766-29cf06d6e0d7",
   "metadata": {},
   "source": [
    "Here we have the dataframe with the avg of jumpballs won of each player who has jumped at least once."
   ]
  },
  {
   "cell_type": "code",
   "execution_count": 238,
   "id": "abc8e0f2-7956-45fc-982f-5df85fcff610",
   "metadata": {},
   "outputs": [
    {
     "data": {
      "text/html": [
       "<div>\n",
       "<style scoped>\n",
       "    .dataframe tbody tr th:only-of-type {\n",
       "        vertical-align: middle;\n",
       "    }\n",
       "\n",
       "    .dataframe tbody tr th {\n",
       "        vertical-align: top;\n",
       "    }\n",
       "\n",
       "    .dataframe thead th {\n",
       "        text-align: right;\n",
       "    }\n",
       "</style>\n",
       "<table border=\"1\" class=\"dataframe\">\n",
       "  <thead>\n",
       "    <tr style=\"text-align: right;\">\n",
       "      <th></th>\n",
       "      <th>Name</th>\n",
       "      <th>Won</th>\n",
       "      <th>Total</th>\n",
       "      <th>Avg</th>\n",
       "    </tr>\n",
       "  </thead>\n",
       "  <tbody>\n",
       "    <tr>\n",
       "      <th>203497</th>\n",
       "      <td>Gobert</td>\n",
       "      <td>11</td>\n",
       "      <td>21</td>\n",
       "      <td>0.52381</td>\n",
       "    </tr>\n",
       "  </tbody>\n",
       "</table>\n",
       "</div>"
      ],
      "text/plain": [
       "          Name  Won  Total      Avg\n",
       "203497  Gobert   11     21  0.52381"
      ]
     },
     "execution_count": 238,
     "metadata": {},
     "output_type": "execute_result"
    }
   ],
   "source": [
    "name = \"Gobert\"\n",
    "jb_analytics[jb_analytics[\"Name\"].str.contains(name)]"
   ]
  },
  {
   "cell_type": "code",
   "execution_count": 243,
   "id": "244e7a3f-6768-4a99-a027-116235358716",
   "metadata": {},
   "outputs": [
    {
     "data": {
      "text/html": [
       "<div>\n",
       "<style scoped>\n",
       "    .dataframe tbody tr th:only-of-type {\n",
       "        vertical-align: middle;\n",
       "    }\n",
       "\n",
       "    .dataframe tbody tr th {\n",
       "        vertical-align: top;\n",
       "    }\n",
       "\n",
       "    .dataframe thead th {\n",
       "        text-align: right;\n",
       "    }\n",
       "</style>\n",
       "<table border=\"1\" class=\"dataframe\">\n",
       "  <thead>\n",
       "    <tr style=\"text-align: right;\">\n",
       "      <th></th>\n",
       "      <th>Name</th>\n",
       "      <th>Won</th>\n",
       "      <th>Total</th>\n",
       "      <th>Avg</th>\n",
       "    </tr>\n",
       "  </thead>\n",
       "  <tbody>\n",
       "    <tr>\n",
       "      <th>1628374</th>\n",
       "      <td>Markkanen</td>\n",
       "      <td>0</td>\n",
       "      <td>7</td>\n",
       "      <td>0.0</td>\n",
       "    </tr>\n",
       "  </tbody>\n",
       "</table>\n",
       "</div>"
      ],
      "text/plain": [
       "              Name  Won  Total  Avg\n",
       "1628374  Markkanen    0      7  0.0"
      ]
     },
     "execution_count": 243,
     "metadata": {},
     "output_type": "execute_result"
    }
   ],
   "source": [
    "name = \"Markkanen\"\n",
    "jb_analytics[jb_analytics[\"Name\"].str.contains(name)]"
   ]
  },
  {
   "cell_type": "markdown",
   "id": "3a16de45-fad3-4bd0-988f-fc6889f66ebc",
   "metadata": {},
   "source": [
    "I am going to leave this project like this, but it would be interesting to follow it with who is more likely to score the first basket. The following steps of this project would be:\n",
    "- Get the play by play of every game and get how many tries need each team to score the first basket.\n",
    "- Then, get which player is the most likely to do so.\n",
    "- Get a metric of these three values (jumpball, first team to score, player most likely to score)."
   ]
  },
  {
   "cell_type": "code",
   "execution_count": null,
   "id": "e4c1ed91-0d33-483e-aebe-ea5ecebef3f9",
   "metadata": {},
   "outputs": [],
   "source": []
  }
 ],
 "metadata": {
  "kernelspec": {
   "display_name": "Python 3 (ipykernel)",
   "language": "python",
   "name": "python3"
  },
  "language_info": {
   "codemirror_mode": {
    "name": "ipython",
    "version": 3
   },
   "file_extension": ".py",
   "mimetype": "text/x-python",
   "name": "python",
   "nbconvert_exporter": "python",
   "pygments_lexer": "ipython3",
   "version": "3.9.13"
  }
 },
 "nbformat": 4,
 "nbformat_minor": 5
}
